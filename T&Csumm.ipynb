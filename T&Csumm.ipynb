{
  "nbformat": 4,
  "nbformat_minor": 0,
  "metadata": {
    "colab": {
      "provenance": []
    },
    "kernelspec": {
      "name": "python3",
      "display_name": "Python 3"
    },
    "language_info": {
      "name": "python"
    }
  },
  "cells": [
    {
      "cell_type": "code",
      "source": [
        "!pip install summa\n"
      ],
      "metadata": {
        "colab": {
          "base_uri": "https://localhost:8080/"
        },
        "id": "uxczla7x8sly",
        "outputId": "96f1b04f-bdf1-4abb-ab0f-eb4842887fbf"
      },
      "execution_count": 15,
      "outputs": [
        {
          "output_type": "stream",
          "name": "stdout",
          "text": [
            "Collecting summa\n",
            "  Downloading summa-1.2.0.tar.gz (54 kB)\n",
            "\u001b[?25l     \u001b[90m━━━━━━━━━━━━━━━━━━━━━━━━━━━━━━━━━━━━━━━━\u001b[0m \u001b[32m0.0/54.9 kB\u001b[0m \u001b[31m?\u001b[0m eta \u001b[36m-:--:--\u001b[0m\r\u001b[2K     \u001b[90m━━━━━━━━━━━━━━━━━━━━━━━━━━━━━━━━━━━━━━━━\u001b[0m \u001b[32m54.9/54.9 kB\u001b[0m \u001b[31m3.9 MB/s\u001b[0m eta \u001b[36m0:00:00\u001b[0m\n",
            "\u001b[?25h  Preparing metadata (setup.py) ... \u001b[?25l\u001b[?25hdone\n",
            "Requirement already satisfied: scipy>=0.19 in /usr/local/lib/python3.10/dist-packages (from summa) (1.13.1)\n",
            "Requirement already satisfied: numpy<2.3,>=1.22.4 in /usr/local/lib/python3.10/dist-packages (from scipy>=0.19->summa) (1.26.4)\n",
            "Building wheels for collected packages: summa\n",
            "  Building wheel for summa (setup.py) ... \u001b[?25l\u001b[?25hdone\n",
            "  Created wheel for summa: filename=summa-1.2.0-py3-none-any.whl size=54389 sha256=6064a4d4cfefcf1f048c7c2cb452cfabf03f59fb10891383c6f7cb515a3ba340\n",
            "  Stored in directory: /root/.cache/pip/wheels/4a/ca/c5/4958614cfba88ed6ceb7cb5a849f9f89f9ac49971616bc919f\n",
            "Successfully built summa\n",
            "Installing collected packages: summa\n",
            "Successfully installed summa-1.2.0\n"
          ]
        }
      ]
    },
    {
      "cell_type": "code",
      "source": [
        "from summa import keywords, summarizer\n",
        "\n",
        "text = \"You are responsible for safeguarding the password that you use to access the Services and for any \" + \\\n",
        "    \"activities or actions under your password. We encourage you to use “strong” passwords (passwords \" + \\\n",
        "    \"that use a combination of upper and lower case letters, numbers and symbols) with your account.\" + \\\n",
        "    \"Twitter cannot and will not be liable for any loss or damage arising from your failure to comply with the above. \" + \\\n",
        "    \"Twitter gives you a personal, worldwide, royalty­free, non­assignable and non­exclusive license to \" + \\\n",
        "    \"use the software that is provided to you by Twitter as part of the Services. This license is for the sole \" + \\\n",
        "    \"purpose of enabling you to use and enjoy the benefit of the Services as provided by Twitter, in the\" + \\\n",
        "    \"manner permitted by these Terms. \" + \\\n",
        "    \"All right, title, and interest in and to the Services (excluding Content provided by users) are and will \" + \\\n",
        "    \"remain the exclusive property of Twitter and its licensors. The Services are protected by copyright, \" + \\\n",
        "    \"trademark, and other laws of both the United States and foreign countries. Nothing in the Terms \" + \\\n",
        "    \"gives you a right to use the Twitter name or any of the Twitter trademarks, logos, domain names, \" + \\\n",
        "    \"and other distinctive brand features. Any feedback, comments, or suggestions you may provide \" + \\\n",
        "    \"regarding Twitter, or the Services is entirely voluntary and we will be free to use such feedback, comments or suggestions as we see fit and without any obligation to you. \"\n",
        "\n",
        "print ('Input text:')\n",
        "print (text)\n",
        "summary = summarizer.summarize(text)\n",
        "\n",
        "print(summary)"
      ],
      "metadata": {
        "colab": {
          "base_uri": "https://localhost:8080/"
        },
        "id": "NhzGa5099EiW",
        "outputId": "bc276a92-9cb3-4fb1-f057-cc52c7c446e8"
      },
      "execution_count": 17,
      "outputs": [
        {
          "output_type": "stream",
          "name": "stdout",
          "text": [
            "Input text:\n",
            "You are responsible for safeguarding the password that you use to access the Services and for any activities or actions under your password. We encourage you to use “strong” passwords (passwords that use a combination of upper and lower case letters, numbers and symbols) with your account.Twitter cannot and will not be liable for any loss or damage arising from your failure to comply with the above. Twitter gives you a personal, worldwide, royalty­free, non­assignable and non­exclusive license to use the software that is provided to you by Twitter as part of the Services. This license is for the sole purpose of enabling you to use and enjoy the benefit of the Services as provided by Twitter, in themanner permitted by these Terms. All right, title, and interest in and to the Services (excluding Content provided by users) are and will remain the exclusive property of Twitter and its licensors. The Services are protected by copyright, trademark, and other laws of both the United States and foreign countries. Nothing in the Terms gives you a right to use the Twitter name or any of the Twitter trademarks, logos, domain names, and other distinctive brand features. Any feedback, comments, or suggestions you may provide regarding Twitter, or the Services is entirely voluntary and we will be free to use such feedback, comments or suggestions as we see fit and without any obligation to you. \n",
            "Twitter gives you a personal, worldwide, royalty­free, non­assignable and non­exclusive license to use the software that is provided to you by Twitter as part of the Services.\n"
          ]
        }
      ]
    },
    {
      "cell_type": "code",
      "source": [
        "print(summarizer.summarize(text, split=True))"
      ],
      "metadata": {
        "colab": {
          "base_uri": "https://localhost:8080/"
        },
        "id": "TJVD-VWj9ckf",
        "outputId": "4faf5f18-3ae1-4f96-f03e-07980e000a0f"
      },
      "execution_count": 21,
      "outputs": [
        {
          "output_type": "stream",
          "name": "stdout",
          "text": [
            "['Twitter gives you a personal, worldwide, royalty\\xadfree, non\\xadassignable and non\\xadexclusive license to use the software that is provided to you by Twitter as part of the Services.']\n"
          ]
        }
      ]
    },
    {
      "cell_type": "code",
      "source": [
        "print ('Summary:')\n",
        "print (summarizer.summarize(text, ratio=0.3))"
      ],
      "metadata": {
        "colab": {
          "base_uri": "https://localhost:8080/"
        },
        "id": "FEFAf6_b96iQ",
        "outputId": "918ba873-8755-4d56-8ab6-b5cf92cd1529"
      },
      "execution_count": 22,
      "outputs": [
        {
          "output_type": "stream",
          "name": "stdout",
          "text": [
            "Summary:\n",
            "Twitter gives you a personal, worldwide, royalty­free, non­assignable and non­exclusive license to use the software that is provided to you by Twitter as part of the Services.\n",
            "This license is for the sole purpose of enabling you to use and enjoy the benefit of the Services as provided by Twitter, in themanner permitted by these Terms.\n"
          ]
        }
      ]
    },
    {
      "cell_type": "code",
      "source": [
        "print ('Summary:')\n",
        "print (summarizer.summarize(text, words=50))"
      ],
      "metadata": {
        "colab": {
          "base_uri": "https://localhost:8080/"
        },
        "id": "VZFLL-TA-JoR",
        "outputId": "21db7b3e-0450-404e-f276-bd444ef6be6b"
      },
      "execution_count": 24,
      "outputs": [
        {
          "output_type": "stream",
          "name": "stdout",
          "text": [
            "Summary:\n",
            "Twitter gives you a personal, worldwide, royalty­free, non­assignable and non­exclusive license to use the software that is provided to you by Twitter as part of the Services.\n",
            "This license is for the sole purpose of enabling you to use and enjoy the benefit of the Services as provided by Twitter, in themanner permitted by these Terms.\n"
          ]
        }
      ]
    },
    {
      "cell_type": "code",
      "source": [
        "print ('Keywords:')\n",
        "print (keywords.keywords(text, ratio=0.25))\n"
      ],
      "metadata": {
        "colab": {
          "base_uri": "https://localhost:8080/"
        },
        "id": "Ja0PCoa0-gNG",
        "outputId": "d5aabc0d-70e3-47b0-f676-b397e9eedf5d"
      },
      "execution_count": 30,
      "outputs": [
        {
          "output_type": "stream",
          "name": "stdout",
          "text": [
            "Keywords:\n",
            "strong passwords\n",
            "use\n",
            "password\n",
            "logos domain\n",
            "twitter gives\n",
            "names\n",
            "terms\n",
            "non\n",
            "brand\n",
            "trademark\n",
            "trademarks\n"
          ]
        }
      ]
    }
  ]
}